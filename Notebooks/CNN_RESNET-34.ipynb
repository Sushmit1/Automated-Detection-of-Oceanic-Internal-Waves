{
 "cells": [
  {
   "cell_type": "code",
   "execution_count": 8,
   "id": "49b573da-d71f-4f8c-8d62-525488de2b52",
   "metadata": {},
   "outputs": [],
   "source": [
    "import os\n",
    "import numpy as np\n",
    "import pandas as pd\n",
    "from PIL import Image\n",
    "import torch\n",
    "from torch.utils.data import Dataset, DataLoader\n",
    "from torchvision import transforms, models\n",
    "import torch.nn as nn\n",
    "import torch.optim as optim\n",
    "from torch.cuda.amp import GradScaler, autocast\n",
    "from sklearn.metrics import (\n",
    "    accuracy_score,\n",
    "    precision_score,\n",
    "    recall_score,\n",
    "    f1_score,\n",
    "    classification_report,\n",
    "    roc_curve,\n",
    "    roc_auc_score,\n",
    ")\n",
    "import matplotlib.pyplot as plt"
   ]
  },
  {
   "cell_type": "code",
   "execution_count": 9,
   "id": "3e91552f-93a8-4ef2-8e63-929b8f361a75",
   "metadata": {},
   "outputs": [],
   "source": [
    "class SARImageDataset(Dataset):\n",
    "    def __init__(self, data, root_dir, transform=None, mode='train'):\n",
    "        self.df = data\n",
    "        self.root_dir = root_dir\n",
    "        self.transform = transform\n",
    "        self.mode = mode\n",
    "\n",
    "    def __getitem__(self, idx):\n",
    "        img_name = os.path.join(self.root_dir, str(self.df.iloc[idx][\"id\"]) + \".png\")\n",
    "        image = Image.open(img_name).convert(\"RGB\")\n",
    "        if self.transform:\n",
    "            image = self.transform(image)\n",
    "\n",
    "        if self.mode in ['train', 'val']:\n",
    "            label = self.df.iloc[idx][\"ground_truth\"]\n",
    "            return image, label\n",
    "        else:\n",
    "            return image, self.df.iloc[idx][\"id\"]\n",
    "\n",
    "    def __len__(self):\n",
    "        return len(self.df)"
   ]
  },
  {
   "cell_type": "code",
   "execution_count": 10,
   "id": "f18ea8ed-bfca-42bb-9a8e-b7f8ec7b8854",
   "metadata": {},
   "outputs": [],
   "source": [
    "train_csv_path = \"train.csv\"\n",
    "test_csv_path = \"test.csv\"\n",
    "solutions_csv_path = \"solution.csv\"\n",
    "train_images_path = \"dataset/train/images\"\n",
    "test_images_path = \"dataset/val/images\"\n",
    "\n",
    "train_df = pd.read_csv(train_csv_path)\n",
    "test_df = pd.read_csv(test_csv_path)\n",
    "solutions_df = pd.read_csv(solutions_csv_path)"
   ]
  },
  {
   "cell_type": "code",
   "execution_count": 11,
   "id": "4396594d-bf5b-4621-8422-ce596041da2e",
   "metadata": {},
   "outputs": [],
   "source": [
    "transform = transforms.Compose([\n",
    "    transforms.Resize((224, 224)),\n",
    "    transforms.RandomHorizontalFlip(),\n",
    "    transforms.RandomRotation(10),\n",
    "    transforms.ColorJitter(brightness=0.1, contrast=0.1),\n",
    "    transforms.ToTensor(),\n",
    "    transforms.Normalize(mean=[0.485, 0.456, 0.406], std=[0.229, 0.224, 0.225])\n",
    "])\n"
   ]
  },
  {
   "cell_type": "code",
   "execution_count": 12,
   "id": "3e9fcf2c-8852-48bb-a6e2-4a12293b0406",
   "metadata": {},
   "outputs": [],
   "source": [
    "train_dataset = SARImageDataset(train_df, train_images_path, transform=transform, mode='train')\n",
    "test_dataset = SARImageDataset(test_df, test_images_path, transform=transform, mode='test')\n",
    "\n",
    "train_loader = DataLoader(train_dataset, batch_size=32, shuffle=True, num_workers=0)\n",
    "test_loader = DataLoader(test_dataset, batch_size=32, shuffle=False, num_workers=0)"
   ]
  },
  {
   "cell_type": "code",
   "execution_count": 13,
   "id": "9b944e90-251d-43a2-ae9e-965077701a6d",
   "metadata": {},
   "outputs": [],
   "source": [
    "class ResNet34Model(nn.Module):\n",
    "    def __init__(self, num_classes=2):\n",
    "        super(ResNet34Model, self).__init__()\n",
    "        self.model = models.resnet34(pretrained=True)\n",
    "        self.model.fc = nn.Sequential(\n",
    "            nn.Linear(self.model.fc.in_features, 512),\n",
    "            nn.ReLU(),\n",
    "            nn.Dropout(0.4),\n",
    "            nn.Linear(512, num_classes)\n",
    "        )\n",
    "\n",
    "    def forward(self, x):\n",
    "        return self.model(x)\n"
   ]
  },
  {
   "cell_type": "code",
   "execution_count": 14,
   "id": "ef737281-66cb-4739-b25d-e6329f9f59db",
   "metadata": {},
   "outputs": [
    {
     "name": "stderr",
     "output_type": "stream",
     "text": [
      "C:\\Users\\sushm\\miniconda3\\envs\\pytorch-env\\Lib\\site-packages\\torchvision\\models\\_utils.py:208: UserWarning: The parameter 'pretrained' is deprecated since 0.13 and may be removed in the future, please use 'weights' instead.\n",
      "  warnings.warn(\n",
      "C:\\Users\\sushm\\miniconda3\\envs\\pytorch-env\\Lib\\site-packages\\torchvision\\models\\_utils.py:223: UserWarning: Arguments other than a weight enum or `None` for 'weights' are deprecated since 0.13 and may be removed in the future. The current behavior is equivalent to passing `weights=ResNet34_Weights.IMAGENET1K_V1`. You can also use `weights=ResNet34_Weights.DEFAULT` to get the most up-to-date weights.\n",
      "  warnings.warn(msg)\n",
      "Downloading: \"https://download.pytorch.org/models/resnet34-b627a593.pth\" to C:\\Users\\sushm/.cache\\torch\\hub\\checkpoints\\resnet34-b627a593.pth\n",
      "100%|██████████████████████████████████████████████████████████████████████████████| 83.3M/83.3M [07:38<00:00, 190kB/s]\n"
     ]
    }
   ],
   "source": [
    "device = torch.device(\"cuda\" if torch.cuda.is_available() else \"cpu\")\n",
    "model = ResNet34Model(num_classes=2).to(device)\n",
    "\n",
    "criterion = nn.CrossEntropyLoss()\n",
    "optimizer = optim.AdamW(model.parameters(), lr=1e-4, weight_decay=1e-4)\n",
    "scheduler = optim.lr_scheduler.CosineAnnealingLR(optimizer, T_max=20)\n",
    "scaler = GradScaler()"
   ]
  },
  {
   "cell_type": "code",
   "execution_count": 17,
   "id": "73e71839-f1bc-4d1f-a504-c4b041237453",
   "metadata": {},
   "outputs": [
    {
     "name": "stdout",
     "output_type": "stream",
     "text": [
      "Epoch 1/20, Loss: 0.0934, Accuracy: 0.9638, Precision: 0.9638, Recall: 0.9639, F1-Score: 0.9638\n",
      "Epoch 2/20, Loss: 0.0716, Accuracy: 0.9756, Precision: 0.9756, Recall: 0.9756, F1-Score: 0.9756\n",
      "Epoch 3/20, Loss: 0.0532, Accuracy: 0.9800, Precision: 0.9800, Recall: 0.9800, F1-Score: 0.9800\n",
      "Epoch 4/20, Loss: 0.0490, Accuracy: 0.9832, Precision: 0.9833, Recall: 0.9832, F1-Score: 0.9832\n",
      "Epoch 5/20, Loss: 0.0408, Accuracy: 0.9879, Precision: 0.9880, Recall: 0.9879, F1-Score: 0.9879\n",
      "Epoch 6/20, Loss: 0.0393, Accuracy: 0.9868, Precision: 0.9868, Recall: 0.9868, F1-Score: 0.9868\n",
      "Epoch 7/20, Loss: 0.0286, Accuracy: 0.9926, Precision: 0.9926, Recall: 0.9927, F1-Score: 0.9926\n",
      "Epoch 8/20, Loss: 0.0255, Accuracy: 0.9924, Precision: 0.9924, Recall: 0.9923, F1-Score: 0.9924\n",
      "Epoch 9/20, Loss: 0.0136, Accuracy: 0.9956, Precision: 0.9956, Recall: 0.9956, F1-Score: 0.9956\n",
      "Epoch 10/20, Loss: 0.0084, Accuracy: 0.9974, Precision: 0.9974, Recall: 0.9973, F1-Score: 0.9974\n",
      "Epoch 11/20, Loss: 0.0131, Accuracy: 0.9968, Precision: 0.9968, Recall: 0.9968, F1-Score: 0.9968\n",
      "Epoch 12/20, Loss: 0.0114, Accuracy: 0.9962, Precision: 0.9962, Recall: 0.9962, F1-Score: 0.9962\n",
      "Epoch 13/20, Loss: 0.0058, Accuracy: 0.9985, Precision: 0.9985, Recall: 0.9985, F1-Score: 0.9985\n",
      "Epoch 14/20, Loss: 0.0064, Accuracy: 0.9985, Precision: 0.9985, Recall: 0.9985, F1-Score: 0.9985\n",
      "Epoch 15/20, Loss: 0.0036, Accuracy: 0.9994, Precision: 0.9994, Recall: 0.9994, F1-Score: 0.9994\n",
      "Epoch 16/20, Loss: 0.0069, Accuracy: 0.9982, Precision: 0.9982, Recall: 0.9983, F1-Score: 0.9982\n",
      "Epoch 17/20, Loss: 0.0031, Accuracy: 1.0000, Precision: 1.0000, Recall: 1.0000, F1-Score: 1.0000\n",
      "Epoch 18/20, Loss: 0.0054, Accuracy: 0.9982, Precision: 0.9982, Recall: 0.9983, F1-Score: 0.9982\n",
      "Epoch 19/20, Loss: 0.0052, Accuracy: 0.9985, Precision: 0.9985, Recall: 0.9985, F1-Score: 0.9985\n",
      "Epoch 20/20, Loss: 0.0067, Accuracy: 0.9979, Precision: 0.9979, Recall: 0.9979, F1-Score: 0.9979\n"
     ]
    }
   ],
   "source": [
    "num_epochs = 20\n",
    "for epoch in range(num_epochs):\n",
    "    model.train()\n",
    "    train_loss = 0.0\n",
    "    all_labels = []\n",
    "    all_preds = []\n",
    "\n",
    "    for images, labels in train_loader:\n",
    "        images, labels = images.to(device), labels.to(device)\n",
    "\n",
    "        optimizer.zero_grad()\n",
    "\n",
    "        with autocast():\n",
    "            outputs = model(images)\n",
    "            loss = criterion(outputs, labels)\n",
    "\n",
    "        scaler.scale(loss).backward()\n",
    "        scaler.step(optimizer)\n",
    "        scaler.update()\n",
    "\n",
    "        train_loss += loss.item()\n",
    "        _, predicted = torch.max(outputs, 1)\n",
    "        all_labels.extend(labels.cpu().numpy())\n",
    "        all_preds.extend(predicted.cpu().numpy())\n",
    "\n",
    "    accuracy = accuracy_score(all_labels, all_preds)\n",
    "    precision = precision_score(all_labels, all_preds, average='macro')\n",
    "    recall = recall_score(all_labels, all_preds, average='macro')\n",
    "    f1 = f1_score(all_labels, all_preds, average='macro')\n",
    "\n",
    "    print(f\"Epoch {epoch + 1}/{num_epochs}, Loss: {train_loss / len(train_loader):.4f}, \"\n",
    "          f\"Accuracy: {accuracy:.4f}, Precision: {precision:.4f}, \"\n",
    "          f\"Recall: {recall:.4f}, F1-Score: {f1:.4f}\")\n",
    "\n",
    "    scheduler.step()"
   ]
  },
  {
   "cell_type": "code",
   "execution_count": 18,
   "id": "949d528f-5efd-43a9-8633-50a02dbf7a86",
   "metadata": {},
   "outputs": [
    {
     "name": "stdout",
     "output_type": "stream",
     "text": [
      "Classification Report:\n",
      "               precision    recall  f1-score   support\n",
      "\n",
      "           0       0.98      0.98      0.98       719\n",
      "           1       0.98      0.98      0.98       740\n",
      "\n",
      "    accuracy                           0.98      1459\n",
      "   macro avg       0.98      0.98      0.98      1459\n",
      "weighted avg       0.98      0.98      0.98      1459\n",
      "\n",
      "Accuracy: 0.9773817683344757\n",
      "Precision: 0.9773582352653755\n",
      "Recall: 0.977406683456753\n",
      "F1-Score: 0.9773783251587962\n"
     ]
    },
    {
     "data": {
      "image/png": "[encoded data removed]",
      "text/plain": [
       "<Figure size 700x500 with 1 Axes>"
      ]
     },
     "metadata": {},
     "output_type": "display_data"
    }
   ],
   "source": [
    "model.eval()\n",
    "predictions, image_ids, probs = [], [], []\n",
    "\n",
    "with torch.no_grad():\n",
    "    for images, ids in test_loader:\n",
    "        images = images.to(device)\n",
    "        outputs = model(images)\n",
    "        _, preds = torch.max(outputs, 1)\n",
    "        probabilities = torch.softmax(outputs, dim=1)[:, 1]\n",
    "\n",
    "        predictions.extend(preds.cpu().numpy())\n",
    "        image_ids.extend(ids)\n",
    "        probs.extend(probabilities.cpu().numpy())\n",
    "\n",
    "predictions_df = pd.DataFrame({\"id\": image_ids, \"prediction\": predictions, \"probability\": probs})\n",
    "\n",
    "solutions_df[\"id\"] = solutions_df[\"id\"].astype(str)\n",
    "predictions_df[\"id\"] = predictions_df[\"id\"].astype(str)\n",
    "merged_df = pd.merge(predictions_df, solutions_df, on=\"id\")\n",
    "\n",
    "y_true = merged_df[\"ground_truth\"]\n",
    "y_pred = merged_df[\"prediction\"]\n",
    "y_prob = merged_df[\"probability\"]\n",
    "\n",
    "print(\"Classification Report:\\n\", classification_report(y_true, y_pred))\n",
    "print(\"Accuracy:\", accuracy_score(y_true, y_pred))\n",
    "print(\"Precision:\", precision_score(y_true, y_pred, average=\"macro\"))\n",
    "print(\"Recall:\", recall_score(y_true, y_pred, average=\"macro\"))\n",
    "print(\"F1-Score:\", f1_score(y_true, y_pred, average=\"macro\"))\n",
    "\n",
    "fpr, tpr, _ = roc_curve(y_true, y_prob)\n",
    "roc_auc = roc_auc_score(y_true, y_prob)\n",
    "\n",
    "plt.figure(figsize=(7, 5))\n",
    "plt.plot(fpr, tpr, color='darkorange', lw=2, label=f'ROC curve (AUC = {roc_auc:.4f})')\n",
    "plt.plot([0, 1], [0, 1], color='navy', linestyle='--')\n",
    "plt.xlim([0.0, 1.0])\n",
    "plt.ylim([0.0, 1.05])\n",
    "plt.xlabel('False Positive Rate')\n",
    "plt.ylabel('True Positive Rate')\n",
    "plt.title('Receiver Operating Characteristic (ROC) Curve')\n",
    "plt.legend(loc='lower right')\n",
    "plt.grid(True)\n",
    "plt.show()"
   ]
  },
  {
   "cell_type": "code",
   "execution_count": 19,
   "id": "0e284cf0-7aee-481b-b7cb-3ae1283f253b",
   "metadata": {},
   "outputs": [
    {
     "name": "stdout",
     "output_type": "stream",
     "text": [
      "Model saved at Models/resnet34_internal_waves.pth\n"
     ]
    }
   ],
   "source": [
    "save_dir = \"Models/\"  \n",
    "os.makedirs(save_dir, exist_ok=True) \n",
    "\n",
    "model_path = os.path.join(save_dir, \"resnet34_internal_waves.pth\")\n",
    "torch.save(model.state_dict(), model_path)\n",
    "print(f\"Model saved at {model_path}\")\n"
   ]
  },
  {
   "cell_type": "code",
   "execution_count": null,
   "id": "4505164a-ebb9-45be-bfb2-a19fd3970b22",
   "metadata": {},
   "outputs": [],
   "source": []
  }
 ],
 "metadata": {
  "kernelspec": {
   "display_name": "Python 3 (ipykernel)",
   "language": "python",
   "name": "python3"
  },
  "language_info": {
   "codemirror_mode": {
    "name": "ipython",
    "version": 3
   },
   "file_extension": ".py",
   "mimetype": "text/x-python",
   "name": "python",
   "nbconvert_exporter": "python",
   "pygments_lexer": "ipython3",
   "version": "3.11.5"
  }
 },
 "nbformat": 4,
 "nbformat_minor": 5
}
