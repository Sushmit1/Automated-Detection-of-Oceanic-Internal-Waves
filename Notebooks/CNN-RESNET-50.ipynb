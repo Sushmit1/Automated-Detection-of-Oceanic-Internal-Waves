{
 "cells": [
  {
   "cell_type": "code",
   "execution_count": 1,
   "id": "8dc9b9d5-51b3-49f2-9f5d-985f674a2a60",
   "metadata": {},
   "outputs": [],
   "source": [
    "import os\n",
    "import numpy as np\n",
    "import pandas as pd\n",
    "from PIL import Image\n",
    "import torch\n",
    "from torch.utils.data import Dataset, DataLoader\n",
    "from torchvision import transforms, models\n",
    "import torch.nn as nn\n",
    "import torch.optim as optim\n",
    "from torch.cuda.amp import GradScaler, autocast\n",
    "from sklearn.metrics import (\n",
    "    accuracy_score,\n",
    "    precision_score,\n",
    "    recall_score,\n",
    "    f1_score,\n",
    "    classification_report,\n",
    "    roc_curve,\n",
    "    roc_auc_score,\n",
    ")"
   ]
  },
  {
   "cell_type": "code",
   "execution_count": 2,
   "id": "6e18fc47-f458-424b-93b0-cf96f5f0c985",
   "metadata": {},
   "outputs": [],
   "source": [
    "class SARImageDataset(Dataset):\n",
    "    def __init__(self, data, root_dir, transform=None, mode='train'):\n",
    "        self.df = data\n",
    "        self.root_dir = root_dir\n",
    "        self.transform = transform\n",
    "        self.mode = mode\n",
    "\n",
    "    def __getitem__(self, idx):\n",
    "        img_name = os.path.join(self.root_dir, str(self.df.iloc[idx][\"id\"]) + \".png\")\n",
    "        image = Image.open(img_name).convert(\"RGB\")\n",
    "        if self.transform:\n",
    "            image = self.transform(image)\n",
    "\n",
    "        if self.mode in ['train', 'val']:\n",
    "            label = self.df.iloc[idx][\"ground_truth\"]\n",
    "            return image, label\n",
    "        else:\n",
    "            return image, self.df.iloc[idx][\"id\"]\n",
    "\n",
    "    def __len__(self):\n",
    "        return len(self.df)"
   ]
  },
  {
   "cell_type": "code",
   "execution_count": 3,
   "id": "3229595a-fd3a-49b4-9bab-3c41eeff496e",
   "metadata": {},
   "outputs": [],
   "source": [
    "train_csv_path = \"train.csv\"\n",
    "test_csv_path = \"test.csv\"\n",
    "solutions_csv_path = \"solution.csv\"\n",
    "train_images_path = \"dataset/train/images\"\n",
    "test_images_path = \"dataset/val/images\"\n",
    "\n",
    "train_df = pd.read_csv(train_csv_path)\n",
    "test_df = pd.read_csv(test_csv_path)\n",
    "solutions_df = pd.read_csv(solutions_csv_path)\n"
   ]
  },
  {
   "cell_type": "code",
   "execution_count": 4,
   "id": "5b0e876f-a706-4ecc-a72c-4cae1b75f4ef",
   "metadata": {},
   "outputs": [],
   "source": [
    "transform = transforms.Compose([\n",
    "    transforms.Resize((224, 224)),\n",
    "    transforms.RandomHorizontalFlip(),\n",
    "    transforms.RandomRotation(10),\n",
    "    transforms.ColorJitter(brightness=0.1, contrast=0.1),\n",
    "    transforms.ToTensor(),\n",
    "    transforms.Normalize(mean=[0.485, 0.456, 0.406], std=[0.229, 0.224, 0.225])\n",
    "])\n"
   ]
  },
  {
   "cell_type": "code",
   "execution_count": 5,
   "id": "e5fd9339-751b-48ef-996f-02afa3919769",
   "metadata": {},
   "outputs": [],
   "source": [
    "train_dataset = SARImageDataset(train_df, train_images_path, transform=transform, mode='train')\n",
    "test_dataset = SARImageDataset(test_df, test_images_path, transform=transform, mode='test')\n",
    "\n",
    "train_loader = DataLoader(train_dataset, batch_size=32, shuffle=True, num_workers=0)\n",
    "test_loader = DataLoader(test_dataset, batch_size=32, shuffle=False, num_workers=0)\n"
   ]
  },
  {
   "cell_type": "code",
   "execution_count": 6,
   "id": "24ab81ff-b694-4a89-8067-57c37ea301dc",
   "metadata": {},
   "outputs": [],
   "source": [
    "class ResNet50Model(nn.Module):\n",
    "    def __init__(self, num_classes=2):\n",
    "        super(ResNet50Model, self).__init__()\n",
    "        self.model = models.resnet50(pretrained=True)\n",
    "        self.model.fc = nn.Sequential(\n",
    "            nn.Linear(self.model.fc.in_features, 512),\n",
    "            nn.ReLU(),\n",
    "            nn.Dropout(0.4),\n",
    "            nn.Linear(512, num_classes)\n",
    "        )\n",
    "\n",
    "    def forward(self, x):\n",
    "        return self.model(x)"
   ]
  },
  {
   "cell_type": "code",
   "execution_count": 7,
   "id": "811257e1-528d-49e1-991a-f7608bd2fd29",
   "metadata": {},
   "outputs": [
    {
     "name": "stderr",
     "output_type": "stream",
     "text": [
      "C:\\Users\\sushm\\miniconda3\\envs\\pytorch-env\\Lib\\site-packages\\torchvision\\models\\_utils.py:208: UserWarning: The parameter 'pretrained' is deprecated since 0.13 and may be removed in the future, please use 'weights' instead.\n",
      "  warnings.warn(\n",
      "C:\\Users\\sushm\\miniconda3\\envs\\pytorch-env\\Lib\\site-packages\\torchvision\\models\\_utils.py:223: UserWarning: Arguments other than a weight enum or `None` for 'weights' are deprecated since 0.13 and may be removed in the future. The current behavior is equivalent to passing `weights=ResNet50_Weights.IMAGENET1K_V1`. You can also use `weights=ResNet50_Weights.DEFAULT` to get the most up-to-date weights.\n",
      "  warnings.warn(msg)\n",
      "Downloading: \"https://download.pytorch.org/models/resnet50-0676ba61.pth\" to C:\\Users\\sushm/.cache\\torch\\hub\\checkpoints\\resnet50-0676ba61.pth\n",
      "100%|██████████████████████████████████████████████████████████████████████████████| 97.8M/97.8M [08:36<00:00, 199kB/s]\n"
     ]
    }
   ],
   "source": [
    "device = torch.device(\"cuda\" if torch.cuda.is_available() else \"cpu\")\n",
    "model = ResNet50Model(num_classes=2).to(device)\n",
    "\n",
    "criterion = nn.CrossEntropyLoss()\n",
    "optimizer = optim.AdamW(model.parameters(), lr=1e-4, weight_decay=1e-4)\n",
    "scheduler = optim.lr_scheduler.CosineAnnealingLR(optimizer, T_max=20)\n",
    "scaler = GradScaler()\n",
    "\n",
    "num_epochs = 20"
   ]
  },
  {
   "cell_type": "code",
   "execution_count": 8,
   "id": "32d462f5-ee79-4b46-9420-f12dea1f140d",
   "metadata": {},
   "outputs": [
    {
     "name": "stdout",
     "output_type": "stream",
     "text": [
      "Epoch 1/20, Loss: 0.3286, Accuracy: 0.8492, Precision: 0.8494, Recall: 0.8494, F1-Score: 0.8492\n",
      "Epoch 2/20, Loss: 0.2059, Accuracy: 0.9168, Precision: 0.9170, Recall: 0.9170, F1-Score: 0.9168\n",
      "Epoch 3/20, Loss: 0.1661, Accuracy: 0.9330, Precision: 0.9329, Recall: 0.9330, F1-Score: 0.9330\n",
      "Epoch 4/20, Loss: 0.1235, Accuracy: 0.9562, Precision: 0.9562, Recall: 0.9562, F1-Score: 0.9562\n",
      "Epoch 5/20, Loss: 0.1096, Accuracy: 0.9582, Precision: 0.9582, Recall: 0.9583, F1-Score: 0.9582\n",
      "Epoch 6/20, Loss: 0.1106, Accuracy: 0.9577, Precision: 0.9577, Recall: 0.9576, F1-Score: 0.9576\n",
      "Epoch 7/20, Loss: 0.0777, Accuracy: 0.9727, Precision: 0.9726, Recall: 0.9727, F1-Score: 0.9727\n",
      "Epoch 8/20, Loss: 0.0603, Accuracy: 0.9818, Precision: 0.9818, Recall: 0.9818, F1-Score: 0.9818\n",
      "Epoch 9/20, Loss: 0.0770, Accuracy: 0.9756, Precision: 0.9756, Recall: 0.9756, F1-Score: 0.9756\n",
      "Epoch 10/20, Loss: 0.0545, Accuracy: 0.9829, Precision: 0.9829, Recall: 0.9830, F1-Score: 0.9829\n",
      "Epoch 11/20, Loss: 0.0320, Accuracy: 0.9891, Precision: 0.9891, Recall: 0.9891, F1-Score: 0.9891\n",
      "Epoch 12/20, Loss: 0.0274, Accuracy: 0.9894, Precision: 0.9894, Recall: 0.9894, F1-Score: 0.9894\n",
      "Epoch 13/20, Loss: 0.0211, Accuracy: 0.9938, Precision: 0.9939, Recall: 0.9938, F1-Score: 0.9938\n",
      "Epoch 14/20, Loss: 0.0238, Accuracy: 0.9926, Precision: 0.9926, Recall: 0.9927, F1-Score: 0.9926\n",
      "Epoch 15/20, Loss: 0.0146, Accuracy: 0.9950, Precision: 0.9950, Recall: 0.9950, F1-Score: 0.9950\n",
      "Epoch 16/20, Loss: 0.0137, Accuracy: 0.9974, Precision: 0.9974, Recall: 0.9973, F1-Score: 0.9974\n",
      "Epoch 17/20, Loss: 0.0087, Accuracy: 0.9979, Precision: 0.9979, Recall: 0.9979, F1-Score: 0.9979\n",
      "Epoch 18/20, Loss: 0.0062, Accuracy: 0.9988, Precision: 0.9988, Recall: 0.9988, F1-Score: 0.9988\n",
      "Epoch 19/20, Loss: 0.0063, Accuracy: 0.9985, Precision: 0.9985, Recall: 0.9985, F1-Score: 0.9985\n",
      "Epoch 20/20, Loss: 0.0190, Accuracy: 0.9979, Precision: 0.9980, Recall: 0.9979, F1-Score: 0.9979\n"
     ]
    }
   ],
   "source": [
    "for epoch in range(num_epochs):\n",
    "    model.train()\n",
    "    train_loss = 0.0\n",
    "    all_labels = []\n",
    "    all_preds = []\n",
    "\n",
    "    for images, labels in train_loader:\n",
    "        images, labels = images.to(device), labels.to(device)\n",
    "\n",
    "        optimizer.zero_grad()\n",
    "\n",
    "        with autocast():\n",
    "            outputs = model(images)\n",
    "            loss = criterion(outputs, labels)\n",
    "\n",
    "        scaler.scale(loss).backward()\n",
    "        scaler.step(optimizer)\n",
    "        scaler.update()\n",
    "\n",
    "        train_loss += loss.item()\n",
    "        _, predicted = torch.max(outputs, 1)\n",
    "        all_labels.extend(labels.cpu().numpy())\n",
    "        all_preds.extend(predicted.cpu().numpy())\n",
    "\n",
    "    accuracy = accuracy_score(all_labels, all_preds)\n",
    "    precision = precision_score(all_labels, all_preds, average='macro')\n",
    "    recall = recall_score(all_labels, all_preds, average='macro')\n",
    "    f1 = f1_score(all_labels, all_preds, average='macro')\n",
    "\n",
    "    print(f\"Epoch {epoch + 1}/{num_epochs}, Loss: {train_loss / len(train_loader):.4f}, \"\n",
    "          f\"Accuracy: {accuracy:.4f}, Precision: {precision:.4f}, \"\n",
    "          f\"Recall: {recall:.4f}, F1-Score: {f1:.4f}\")\n",
    "\n",
    "    scheduler.step()\n"
   ]
  },
  {
   "cell_type": "code",
   "execution_count": 10,
   "id": "b76da66d-a1c5-4919-b8d9-e383612d1dbc",
   "metadata": {},
   "outputs": [
    {
     "name": "stdout",
     "output_type": "stream",
     "text": [
      "Classification Report:\n",
      "               precision    recall  f1-score   support\n",
      "\n",
      "           0       0.99      0.97      0.98       719\n",
      "           1       0.97      0.99      0.98       740\n",
      "\n",
      "    accuracy                           0.98      1459\n",
      "   macro avg       0.98      0.98      0.98      1459\n",
      "weighted avg       0.98      0.98      0.98      1459\n",
      "\n",
      "Accuracy: 0.9787525702535984\n",
      "Precision: 0.9789564949182634\n",
      "Recall: 0.9786396271097244\n",
      "F1-Score: 0.9787423442782366\n"
     ]
    },
    {
     "data": {
      "image/png": "[encoded data removed]",
      "text/plain": [
       "<Figure size 700x500 with 1 Axes>"
      ]
     },
     "metadata": {},
     "output_type": "display_data"
    },
    {
     "name": "stdout",
     "output_type": "stream",
     "text": [
      "Model saved at Models/resnet50_internal_waves.pth\n"
     ]
    }
   ],
   "source": [
    "import matplotlib.pyplot as plt\n",
    "\n",
    "model.eval()\n",
    "predictions, image_ids, probs = [], [], []\n",
    "\n",
    "with torch.no_grad():\n",
    "    for images, ids in test_loader:\n",
    "        images = images.to(device)\n",
    "        outputs = model(images)\n",
    "        _, preds = torch.max(outputs, 1)\n",
    "        probabilities = torch.softmax(outputs, dim=1)[:, 1]\n",
    "\n",
    "        predictions.extend(preds.cpu().numpy())\n",
    "        image_ids.extend(ids)\n",
    "        probs.extend(probabilities.cpu().numpy())\n",
    "\n",
    "solutions_df[\"id\"] = solutions_df[\"id\"].astype(str)\n",
    "predictions_df = pd.DataFrame({\"id\": image_ids, \"prediction\": predictions, \"probability\": probs})\n",
    "predictions_df[\"id\"] = predictions_df[\"id\"].astype(str)\n",
    "merged_df = pd.merge(predictions_df, solutions_df, on=\"id\")\n",
    "\n",
    "y_true = merged_df[\"ground_truth\"]\n",
    "y_pred = merged_df[\"prediction\"]\n",
    "y_prob = merged_df[\"probability\"]\n",
    "\n",
    "print(\"Classification Report:\\n\", classification_report(y_true, y_pred))\n",
    "print(\"Accuracy:\", accuracy_score(y_true, y_pred))\n",
    "print(\"Precision:\", precision_score(y_true, y_pred, average=\"macro\"))\n",
    "print(\"Recall:\", recall_score(y_true, y_pred, average=\"macro\"))\n",
    "print(\"F1-Score:\", f1_score(y_true, y_pred, average=\"macro\"))\n",
    "\n",
    "fpr, tpr, _ = roc_curve(y_true, y_prob)\n",
    "roc_auc = roc_auc_score(y_true, y_prob)\n",
    "\n",
    "plt.figure(figsize=(7, 5))\n",
    "plt.plot(fpr, tpr, color='darkorange', lw=2, label=f'ROC curve (AUC = {roc_auc:.4f})')\n",
    "plt.plot([0, 1], [0, 1], color='navy', linestyle='--')\n",
    "plt.xlim([0.0, 1.0])\n",
    "plt.ylim([0.0, 1.05])\n",
    "plt.xlabel('False Positive Rate')\n",
    "plt.ylabel('True Positive Rate')\n",
    "plt.title('Receiver Operating Characteristic (ROC) Curve')\n",
    "plt.legend(loc='lower right')\n",
    "plt.grid(True)\n",
    "plt.show()\n",
    "\n",
    "save_dir = \"Models/\"  \n",
    "os.makedirs(save_dir, exist_ok=True)\n",
    "\n",
    "model_path = os.path.join(save_dir, \"resnet50_internal_waves.pth\")\n",
    "torch.save(model.state_dict(), model_path)\n",
    "print(f\"Model saved at {model_path}\")"
   ]
  },
  {
   "cell_type": "code",
   "execution_count": null,
   "id": "7eee1323-03de-4a07-a080-84f2dc5b160e",
   "metadata": {},
   "outputs": [],
   "source": []
  }
 ],
 "metadata": {
  "kernelspec": {
   "display_name": "Python 3 (ipykernel)",
   "language": "python",
   "name": "python3"
  },
  "language_info": {
   "codemirror_mode": {
    "name": "ipython",
    "version": 3
   },
   "file_extension": ".py",
   "mimetype": "text/x-python",
   "name": "python",
   "nbconvert_exporter": "python",
   "pygments_lexer": "ipython3",
   "version": "3.11.5"
  }
 },
 "nbformat": 4,
 "nbformat_minor": 5
}
